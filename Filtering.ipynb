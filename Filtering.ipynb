{
 "cells": [
  {
   "cell_type": "code",
   "execution_count": 4,
   "id": "0d721d43-6620-418f-9780-2840d263fe62",
   "metadata": {},
   "outputs": [
    {
     "name": "stdout",
     "output_type": "stream",
     "text": [
      "Daten erfolgreich in MongoDB gespeichert.\n"
     ]
    }
   ],
   "source": [
    "import pandas as pd\n",
    "from pymongo import MongoClient\n",
    "\n",
    "# Verbindung zu MongoDB herstellen\n",
    "client = MongoClient('mongodb://localhost:27017/')\n",
    "db = client['datenbankname']\n",
    "collection = db['sammlungname']\n",
    "\n",
    "# Daten aus MongoDB abrufen\n",
    "data = pd.DataFrame(list(collection.find()))\n",
    "\n",
    "# Spalte 'Unnamed: 32' entfernen, falls vorhanden\n",
    "if 'Unnamed: 32' in data.columns:\n",
    "    data = data.drop(columns=['Unnamed: 32'])\n",
    "\n",
    "# Daten basierend auf der 'diagnosis'-Spalte aufteilen\n",
    "data_m = data[data['diagnosis'] == 'M']  # Malignant\n",
    "data_b = data[data['diagnosis'] == 'B']  # Benign\n",
    "\n",
    "# Bereinigte Daten in neuen Sammlungen in MongoDB speichern\n",
    "db['bereinigte_daten'].delete_many({})  # Vor dem Speichern die Sammlung leeren (optional)\n",
    "db['bereinigte_daten'].insert_many(data.to_dict('records'))\n",
    "\n",
    "db['daten_m'].delete_many({})  # Sammlung für Malignant-Daten leeren (optional)\n",
    "db['daten_m'].insert_many(data_m.to_dict('records'))\n",
    "\n",
    "db['daten_b'].delete_many({})  # Sammlung für Benign-Daten leeren (optional)\n",
    "db['daten_b'].insert_many(data_b.to_dict('records'))\n",
    "\n",
    "print(\"Daten erfolgreich in MongoDB gespeichert.\")"
   ]
  }
 ],
 "metadata": {
  "kernelspec": {
   "display_name": "Python 3 (ipykernel)",
   "language": "python",
   "name": "python3"
  },
  "language_info": {
   "codemirror_mode": {
    "name": "ipython",
    "version": 3
   },
   "file_extension": ".py",
   "mimetype": "text/x-python",
   "name": "python",
   "nbconvert_exporter": "python",
   "pygments_lexer": "ipython3",
   "version": "3.13.0"
  }
 },
 "nbformat": 4,
 "nbformat_minor": 5
}
